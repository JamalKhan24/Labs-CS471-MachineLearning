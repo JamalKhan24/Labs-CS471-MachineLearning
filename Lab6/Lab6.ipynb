{
  "cells": [
    {
      "cell_type": "markdown",
      "metadata": {
        "id": "4q4u7Nqb2HIn"
      },
      "source": [
        "# Lab 6: K-Nearest Neighbors (K-NN)\n",
        "\n",
        "---\n",
        "\n"
      ]
    },
    {
      "cell_type": "markdown",
      "metadata": {
        "id": "Hc2X9p-r2Emo"
      },
      "source": [
        "## Importing the libraries"
      ]
    },
    {
      "cell_type": "code",
      "execution_count": 1,
      "metadata": {
        "id": "G4ePySI3DRRM"
      },
      "outputs": [],
      "source": [
        "import numpy as np\n",
        "import pandas as pd\n",
        "from time import time\n",
        "from sklearn.neighbors import KNeighborsClassifier\n",
        "from sklearn.model_selection import train_test_split\n",
        "from sklearn.preprocessing import StandardScaler\n",
        "from sklearn.metrics import accuracy_score"
      ]
    },
    {
      "cell_type": "markdown",
      "metadata": {
        "id": "P9sGUGWU2UtV"
      },
      "source": [
        "## Importing the dataset"
      ]
    },
    {
      "cell_type": "code",
      "execution_count": 2,
      "metadata": {
        "id": "2WByBG8gDiGz"
      },
      "outputs": [],
      "source": [
        "train_data = pd.read_excel(\"TrainingSet.xlsx\")\n",
        "test_data = pd.read_excel(\"TestingSet.xlsx\")"
      ]
    },
    {
      "cell_type": "markdown",
      "metadata": {
        "id": "bEvhJT7E2gWR"
      },
      "source": [
        "## Data preprocessing"
      ]
    },
    {
      "cell_type": "code",
      "execution_count": 3,
      "metadata": {
        "id": "67hW-musD0ZU"
      },
      "outputs": [],
      "source": [
        "# Separate features and target variable for training dataset\n",
        "X_train = train_data.drop(columns=['plant'])\n",
        "y_train = train_data['plant']"
      ]
    },
    {
      "cell_type": "code",
      "execution_count": 4,
      "metadata": {
        "id": "obBsDFm3D588"
      },
      "outputs": [],
      "source": [
        "# Separate features and target variable for testing dataset\n",
        "X_test = test_data.drop(columns=['plant'])\n",
        "y_test = test_data['plant']"
      ]
    },
    {
      "cell_type": "markdown",
      "metadata": {
        "id": "j_86hjG72sOW"
      },
      "source": [
        "## Applying feature scaling"
      ]
    },
    {
      "cell_type": "code",
      "execution_count": 5,
      "metadata": {
        "id": "sF4yxIaZD8NE"
      },
      "outputs": [],
      "source": [
        "# Standardize features\n",
        "scaler = StandardScaler()\n",
        "X_train_scaled = scaler.fit_transform(X_train)\n",
        "X_test_scaled = scaler.transform(X_test)"
      ]
    },
    {
      "cell_type": "markdown",
      "metadata": {
        "id": "h6SAXtQb2zNS"
      },
      "source": [
        "## Custom KNN"
      ]
    },
    {
      "cell_type": "code",
      "execution_count": 6,
      "metadata": {
        "id": "zAUNaWtWDXfD"
      },
      "outputs": [],
      "source": [
        "class KNNClassifier:\n",
        "    def __init__(self, k):\n",
        "        self.k = k\n",
        "\n",
        "    def fit(self, X_train, y_train):\n",
        "        self.X_train = X_train\n",
        "        self.y_train = y_train\n",
        "\n",
        "    def predict(self, X_test):\n",
        "        y_pred = []\n",
        "        for x in X_test:\n",
        "            # Calculate distances between the current test instance and all training instances\n",
        "            distances = np.sqrt(np.sum((self.X_train - x) ** 2, axis=1))\n",
        "            # Get indices of k nearest neighbors\n",
        "            nearest_indices = np.argsort(distances)[:self.k]\n",
        "            # Get labels of k nearest neighbors\n",
        "            nearest_labels = self.y_train[nearest_indices]\n",
        "            # Predict the label with majority vote\n",
        "            unique_labels, counts = np.unique(nearest_labels, return_counts=True)\n",
        "            predicted_label = unique_labels[np.argmax(counts)]\n",
        "            y_pred.append(predicted_label)\n",
        "        return np.array(y_pred)"
      ]
    },
    {
      "cell_type": "code",
      "execution_count": 7,
      "metadata": {
        "id": "HIQdyWA6DYBE"
      },
      "outputs": [],
      "source": [
        "k_values = [3, 5, 7]\n",
        "y_pred_custom_ = []\n",
        "training_time_custom_knn = []\n",
        "prediction_time_custom_knn = []\n",
        "\n",
        "for k in k_values:\n",
        "    knn = KNNClassifier(k)\n",
        "\n",
        "    # Training\n",
        "    start = time()\n",
        "    knn.fit(X_train_scaled, y_train)\n",
        "    end = time()\n",
        "    training_time_custom_knn.append(end-start)\n",
        "\n",
        "    # Prediction\n",
        "    start = time()\n",
        "    y_pred_custom = knn.predict(X_test_scaled)\n",
        "    end = time()\n",
        "    prediction_time_custom_knn.append(end-start)\n",
        "\n",
        "    y_pred_custom_.append(y_pred_custom)"
      ]
    },
    {
      "cell_type": "markdown",
      "metadata": {
        "id": "eKwXWDeG5euG"
      },
      "source": [
        "## Standard KNN"
      ]
    },
    {
      "cell_type": "code",
      "execution_count": 8,
      "metadata": {
        "id": "reMF7BfWDhBz"
      },
      "outputs": [],
      "source": [
        "y_pred_sklearn_ = []\n",
        "training_time_knn = []\n",
        "prediction_time_knn = []\n",
        "for k in k_values:\n",
        "    knn_sklearn = KNeighborsClassifier(n_neighbors=k)\n",
        "\n",
        "    # Training\n",
        "    start = time()\n",
        "    knn_sklearn.fit(X_train_scaled, y_train)\n",
        "    end = time()\n",
        "    training_time_knn.append(end-start)\n",
        "\n",
        "    # Prediction\n",
        "    start = time()\n",
        "    y_pred_sklearn = knn_sklearn.predict(X_test_scaled)\n",
        "    end = time()\n",
        "    prediction_time_knn.append(end-start)\n",
        "\n",
        "    y_pred_sklearn_.append(y_pred_sklearn)"
      ]
    },
    {
      "cell_type": "markdown",
      "metadata": {
        "id": "B4Orhvoo68M7"
      },
      "source": [
        "## Comparing Training and Prediction time of Custom and Standard KNN"
      ]
    },
    {
      "cell_type": "code",
      "execution_count": 9,
      "metadata": {
        "colab": {
          "base_uri": "https://localhost:8080/"
        },
        "id": "h3rbqllp9CKb",
        "outputId": "8f227685-7648-4b24-94ca-28fabd116d8a"
      },
      "outputs": [
        {
          "name": "stdout",
          "output_type": "stream",
          "text": [
            "For k=3:\n",
            "Custom KNN:\n",
            "\tTraining time: 0.0000 seconds\n",
            "\tPrediction time: 0.0246 seconds\n",
            "Scikit-learn KNN:\n",
            "\tTraining time: 0.0025 seconds\n",
            "\tPrediction time: 0.0065 seconds\n",
            "Comparison:\n",
            "\tCustom KNN trains faster.\n",
            "\tScikit-learn KNN predicts faster.\n",
            "\n",
            "For k=5:\n",
            "Custom KNN:\n",
            "\tTraining time: 0.0000 seconds\n",
            "\tPrediction time: 0.0154 seconds\n",
            "Scikit-learn KNN:\n",
            "\tTraining time: 0.0011 seconds\n",
            "\tPrediction time: 0.0030 seconds\n",
            "Comparison:\n",
            "\tCustom KNN trains faster.\n",
            "\tScikit-learn KNN predicts faster.\n",
            "\n",
            "For k=7:\n",
            "Custom KNN:\n",
            "\tTraining time: 0.0000 seconds\n",
            "\tPrediction time: 0.0168 seconds\n",
            "Scikit-learn KNN:\n",
            "\tTraining time: 0.0010 seconds\n",
            "\tPrediction time: 0.0045 seconds\n",
            "Comparison:\n",
            "\tCustom KNN trains faster.\n",
            "\tScikit-learn KNN predicts faster.\n",
            "\n"
          ]
        }
      ],
      "source": [
        "k_values = [3, 5, 7]\n",
        "\n",
        "for i, k in enumerate(k_values):\n",
        "    print(f\"For k={k}:\")\n",
        "\n",
        "    # Custom KNN\n",
        "    training_time_custom = training_time_custom_knn[i]\n",
        "    prediction_time_custom = prediction_time_custom_knn[i]\n",
        "    print(\"Custom KNN:\")\n",
        "    print(f\"\\tTraining time: {training_time_custom:.4f} seconds\")\n",
        "    print(f\"\\tPrediction time: {prediction_time_custom:.4f} seconds\")\n",
        "\n",
        "    # Scikit-learn KNN\n",
        "    training_time_sklearn = training_time_knn[i]\n",
        "    prediction_time_sklearn = prediction_time_knn[i]\n",
        "    print(\"Scikit-learn KNN:\")\n",
        "    print(f\"\\tTraining time: {training_time_sklearn:.4f} seconds\")\n",
        "    print(f\"\\tPrediction time: {prediction_time_sklearn:.4f} seconds\")\n",
        "\n",
        "    # Comparison\n",
        "    print(\"Comparison:\")\n",
        "    if training_time_custom < training_time_sklearn:\n",
        "        print(\"\\tCustom KNN trains faster.\")\n",
        "    elif training_time_custom > training_time_sklearn:\n",
        "        print(\"\\tScikit-learn KNN trains faster.\")\n",
        "    else:\n",
        "        print(\"\\tTraining times are equal.\")\n",
        "\n",
        "    if prediction_time_custom < prediction_time_sklearn:\n",
        "        print(\"\\tCustom KNN predicts faster.\")\n",
        "    elif prediction_time_custom > prediction_time_sklearn:\n",
        "        print(\"\\tScikit-learn KNN predicts faster.\")\n",
        "    else:\n",
        "        print(\"\\tPrediction times are equal.\")\n",
        "\n",
        "    print()"
      ]
    },
    {
      "cell_type": "markdown",
      "metadata": {
        "id": "LAJgUJmD9rfx"
      },
      "source": [
        "## Comparing Predictions of Custom and Standard KNN"
      ]
    },
    {
      "cell_type": "code",
      "execution_count": 10,
      "metadata": {
        "colab": {
          "base_uri": "https://localhost:8080/"
        },
        "id": "kOOeOt3P5jpU",
        "outputId": "25ee9afd-6ef2-4b12-8bc0-670b1f61b5c1"
      },
      "outputs": [
        {
          "data": {
            "text/plain": [
              "[array(['Arctica', 'Arctica', 'Arctica', 'Arctica', 'Arctica', 'Arctica',\n",
              "        'Harlequin', 'Harlequin', 'Arctica', 'Arctica', 'Arctica',\n",
              "        'Harlequin', 'Arctica', 'Harlequin', 'Harlequin', 'Carolinian',\n",
              "        'Harlequin', 'Carolinian', 'Carolinian', 'Harlequin', 'Harlequin',\n",
              "        'Carolinian', 'Harlequin', 'Carolinian', 'Harlequin', 'Harlequin',\n",
              "        'Carolinian', 'Carolinian', 'Carolinian', 'Carolinian'],\n",
              "       dtype='<U10'),\n",
              " array(['Arctica', 'Arctica', 'Arctica', 'Arctica', 'Arctica', 'Arctica',\n",
              "        'Harlequin', 'Harlequin', 'Arctica', 'Arctica', 'Arctica',\n",
              "        'Harlequin', 'Arctica', 'Harlequin', 'Harlequin', 'Carolinian',\n",
              "        'Harlequin', 'Carolinian', 'Carolinian', 'Harlequin', 'Harlequin',\n",
              "        'Carolinian', 'Harlequin', 'Carolinian', 'Harlequin', 'Harlequin',\n",
              "        'Carolinian', 'Carolinian', 'Carolinian', 'Carolinian'],\n",
              "       dtype='<U10'),\n",
              " array(['Arctica', 'Arctica', 'Arctica', 'Arctica', 'Arctica', 'Arctica',\n",
              "        'Harlequin', 'Harlequin', 'Arctica', 'Arctica', 'Arctica',\n",
              "        'Harlequin', 'Arctica', 'Harlequin', 'Harlequin', 'Carolinian',\n",
              "        'Harlequin', 'Carolinian', 'Carolinian', 'Harlequin', 'Harlequin',\n",
              "        'Carolinian', 'Harlequin', 'Carolinian', 'Harlequin', 'Harlequin',\n",
              "        'Carolinian', 'Carolinian', 'Carolinian', 'Carolinian'],\n",
              "       dtype='<U10')]"
            ]
          },
          "execution_count": 10,
          "metadata": {},
          "output_type": "execute_result"
        }
      ],
      "source": [
        "y_pred_custom_"
      ]
    },
    {
      "cell_type": "code",
      "execution_count": 11,
      "metadata": {
        "colab": {
          "base_uri": "https://localhost:8080/"
        },
        "id": "cGqjojmG5nfg",
        "outputId": "18baa93a-283a-49d9-a87a-7031681d67fd"
      },
      "outputs": [
        {
          "data": {
            "text/plain": [
              "[array(['Arctica', 'Arctica', 'Arctica', 'Arctica', 'Arctica', 'Arctica',\n",
              "        'Harlequin', 'Harlequin', 'Arctica', 'Arctica', 'Arctica',\n",
              "        'Harlequin', 'Arctica', 'Harlequin', 'Harlequin', 'Carolinian',\n",
              "        'Harlequin', 'Carolinian', 'Carolinian', 'Harlequin', 'Harlequin',\n",
              "        'Carolinian', 'Harlequin', 'Carolinian', 'Harlequin', 'Harlequin',\n",
              "        'Carolinian', 'Carolinian', 'Carolinian', 'Carolinian'],\n",
              "       dtype=object),\n",
              " array(['Arctica', 'Arctica', 'Arctica', 'Arctica', 'Arctica', 'Arctica',\n",
              "        'Harlequin', 'Harlequin', 'Arctica', 'Arctica', 'Arctica',\n",
              "        'Harlequin', 'Arctica', 'Harlequin', 'Harlequin', 'Carolinian',\n",
              "        'Harlequin', 'Carolinian', 'Carolinian', 'Harlequin', 'Harlequin',\n",
              "        'Carolinian', 'Harlequin', 'Carolinian', 'Harlequin', 'Harlequin',\n",
              "        'Carolinian', 'Carolinian', 'Carolinian', 'Carolinian'],\n",
              "       dtype=object),\n",
              " array(['Arctica', 'Arctica', 'Arctica', 'Arctica', 'Arctica', 'Arctica',\n",
              "        'Harlequin', 'Harlequin', 'Arctica', 'Arctica', 'Arctica',\n",
              "        'Harlequin', 'Arctica', 'Harlequin', 'Harlequin', 'Carolinian',\n",
              "        'Harlequin', 'Carolinian', 'Carolinian', 'Harlequin', 'Harlequin',\n",
              "        'Carolinian', 'Harlequin', 'Carolinian', 'Harlequin', 'Harlequin',\n",
              "        'Carolinian', 'Carolinian', 'Carolinian', 'Carolinian'],\n",
              "       dtype=object)]"
            ]
          },
          "execution_count": 11,
          "metadata": {},
          "output_type": "execute_result"
        }
      ],
      "source": [
        "y_pred_sklearn_"
      ]
    },
    {
      "cell_type": "code",
      "execution_count": 12,
      "metadata": {
        "colab": {
          "base_uri": "https://localhost:8080/"
        },
        "id": "rlJZDeaw8rRH",
        "outputId": "d6998279-e242-42f7-cc0e-e2d1ebf9c37e"
      },
      "outputs": [
        {
          "name": "stdout",
          "output_type": "stream",
          "text": [
            "Shape of y_pred_custom_: 3 30\n",
            "Shape of y_pred_sklearn_: 3 30\n"
          ]
        }
      ],
      "source": [
        "# Print shapes of the arrays\n",
        "print(\"Shape of y_pred_custom_:\", len(y_pred_custom_), len(y_pred_custom_[0]))\n",
        "print(\"Shape of y_pred_sklearn_:\", len(y_pred_sklearn_), len(y_pred_sklearn_[0]))"
      ]
    },
    {
      "cell_type": "code",
      "execution_count": 13,
      "metadata": {
        "colab": {
          "base_uri": "https://localhost:8080/"
        },
        "id": "X4GZ7q2E5r7A",
        "outputId": "c547995f-ec3d-40aa-d81a-b7427d67f472"
      },
      "outputs": [
        {
          "name": "stdout",
          "output_type": "stream",
          "text": [
            "Comparison of Predicted Labels (Custom vs Scikit-learn)\n",
            "           k=3         k=5         k=7         k=3         k=5         k=7\n",
            "0      Arctica     Arctica     Arctica     Arctica     Arctica     Arctica\n",
            "1      Arctica     Arctica     Arctica     Arctica     Arctica     Arctica\n",
            "2      Arctica     Arctica     Arctica     Arctica     Arctica     Arctica\n",
            "3      Arctica     Arctica     Arctica     Arctica     Arctica     Arctica\n",
            "4      Arctica     Arctica     Arctica     Arctica     Arctica     Arctica\n",
            "5      Arctica     Arctica     Arctica     Arctica     Arctica     Arctica\n",
            "6    Harlequin   Harlequin   Harlequin   Harlequin   Harlequin   Harlequin\n",
            "7    Harlequin   Harlequin   Harlequin   Harlequin   Harlequin   Harlequin\n",
            "8      Arctica     Arctica     Arctica     Arctica     Arctica     Arctica\n",
            "9      Arctica     Arctica     Arctica     Arctica     Arctica     Arctica\n",
            "10     Arctica     Arctica     Arctica     Arctica     Arctica     Arctica\n",
            "11   Harlequin   Harlequin   Harlequin   Harlequin   Harlequin   Harlequin\n",
            "12     Arctica     Arctica     Arctica     Arctica     Arctica     Arctica\n",
            "13   Harlequin   Harlequin   Harlequin   Harlequin   Harlequin   Harlequin\n",
            "14   Harlequin   Harlequin   Harlequin   Harlequin   Harlequin   Harlequin\n",
            "15  Carolinian  Carolinian  Carolinian  Carolinian  Carolinian  Carolinian\n",
            "16   Harlequin   Harlequin   Harlequin   Harlequin   Harlequin   Harlequin\n",
            "17  Carolinian  Carolinian  Carolinian  Carolinian  Carolinian  Carolinian\n",
            "18  Carolinian  Carolinian  Carolinian  Carolinian  Carolinian  Carolinian\n",
            "19   Harlequin   Harlequin   Harlequin   Harlequin   Harlequin   Harlequin\n",
            "20   Harlequin   Harlequin   Harlequin   Harlequin   Harlequin   Harlequin\n",
            "21  Carolinian  Carolinian  Carolinian  Carolinian  Carolinian  Carolinian\n",
            "22   Harlequin   Harlequin   Harlequin   Harlequin   Harlequin   Harlequin\n",
            "23  Carolinian  Carolinian  Carolinian  Carolinian  Carolinian  Carolinian\n",
            "24   Harlequin   Harlequin   Harlequin   Harlequin   Harlequin   Harlequin\n",
            "25   Harlequin   Harlequin   Harlequin   Harlequin   Harlequin   Harlequin\n",
            "26  Carolinian  Carolinian  Carolinian  Carolinian  Carolinian  Carolinian\n",
            "27  Carolinian  Carolinian  Carolinian  Carolinian  Carolinian  Carolinian\n",
            "28  Carolinian  Carolinian  Carolinian  Carolinian  Carolinian  Carolinian\n",
            "29  Carolinian  Carolinian  Carolinian  Carolinian  Carolinian  Carolinian\n"
          ]
        }
      ],
      "source": [
        "# Convert the predicted labels lists to numpy arrays\n",
        "y_pred_custom_array = np.array(y_pred_custom_)\n",
        "y_pred_sklearn_array = np.array(y_pred_sklearn_)\n",
        "\n",
        "# Convert the predicted labels arrays to DataFrames\n",
        "df_custom = pd.DataFrame(y_pred_custom_array.T, columns=[f\"k={k}\" for k in k_values])\n",
        "df_sklearn = pd.DataFrame(y_pred_sklearn_array.T, columns=[f\"k={k}\" for k in k_values])\n",
        "\n",
        "# Print the comparison DataFrame\n",
        "print(\"Comparison of Predicted Labels (Custom vs Scikit-learn)\")\n",
        "print(pd.concat([df_custom, df_sklearn], axis=1))"
      ]
    },
    {
      "cell_type": "markdown",
      "metadata": {
        "id": "UfQFBxLJ9_Bs"
      },
      "source": [
        "## Conclusion"
      ]
    },
    {
      "cell_type": "markdown",
      "metadata": {
        "id": "rd7wb01A-CN7"
      },
      "source": [
        "From the comparison:\n",
        "\n",
        "1.   **Training Time:** The custom KNN is quicker at training than scikit-learn's KNN for all k values (3, 5, and 7). This suggests the custom implementation might be better optimized for training.\n",
        "\n",
        "2.   **Prediction Time:** On the other hand, scikit-learn's KNN predicts faster for all k values. This indicates scikit-learn's implementation might have better prediction algorithms or optimizations.\n",
        "\n",
        "3.   **Overall Performance:** Despite time differences, both implementations offer similar accuracy in predicting labels. So, they perform similarly in terms of accuracy.\n",
        "\n",
        "4.   **Choice of Implementation:** Choose based on needs. If fast training matters more and a bit slower prediction is fine, go for the custom implementation. If quick prediction is crucial, especially in real-time, opt for scikit-learn's implementation.\n",
        "\n",
        "In short, there's a trade-off between training and prediction speed. It's essential to consider specific needs when choosing between custom and scikit-learn implementations."
      ]
    }
  ],
  "metadata": {
    "colab": {
      "provenance": [],
      "toc_visible": true
    },
    "kernelspec": {
      "display_name": "Python 3",
      "name": "python3"
    },
    "language_info": {
      "name": "python"
    }
  },
  "nbformat": 4,
  "nbformat_minor": 0
}
