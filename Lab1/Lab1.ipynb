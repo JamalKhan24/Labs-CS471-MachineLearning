{
  "nbformat": 4,
  "nbformat_minor": 0,
  "metadata": {
    "colab": {
      "provenance": []
    },
    "kernelspec": {
      "name": "python3",
      "display_name": "Python 3"
    },
    "language_info": {
      "name": "python"
    }
  },
  "cells": [
    {
      "cell_type": "markdown",
      "source": [
        "# Lab 1 : Introduction to NumPy\n",
        "\n",
        "---\n",
        "\n"
      ],
      "metadata": {
        "id": "K5ZT9c2PNEpv"
      }
    },
    {
      "cell_type": "markdown",
      "source": [
        "# Importing the libraries"
      ],
      "metadata": {
        "id": "ZZwdmlWoRaku"
      }
    },
    {
      "cell_type": "code",
      "source": [
        "import numpy as np\n",
        "import math\n",
        "import time"
      ],
      "metadata": {
        "id": "NKC0mzfzReQf"
      },
      "execution_count": 1,
      "outputs": []
    },
    {
      "cell_type": "code",
      "source": [
        "print(\"Hello World\")"
      ],
      "metadata": {
        "colab": {
          "base_uri": "https://localhost:8080/"
        },
        "id": "wVqCNdeLF04T",
        "outputId": "12209a0d-e5b3-462c-88ce-40d40975d639"
      },
      "execution_count": 2,
      "outputs": [
        {
          "output_type": "stream",
          "name": "stdout",
          "text": [
            "Hello World\n"
          ]
        }
      ]
    },
    {
      "cell_type": "code",
      "source": [
        "import numpy as np\n",
        "\n",
        "a = np.array([1, 2, 3])   # Create a rank 1 array\n",
        "print(type(a))            # Prints \"<class 'numpy.ndarray'>\"\n",
        "print(a.shape)            # Prints \"(3,)\"\n",
        "print(a[0], a[1], a[2])   # Prints \"1 2 3\"\n",
        "a[0] = 5                  # Change an element of the array\n",
        "print(a)                  # Prints \"[5, 2, 3]\"\n",
        "\n",
        "b = np.array([[1,2,3],[4,5,6]])    # Create a rank 2 array\n",
        "print(b.shape)                     # Prints \"(2, 3)\"\n",
        "print(b[0, 0], b[0, 1], b[1, 0])   # Prints \"1 2 4\""
      ],
      "metadata": {
        "colab": {
          "base_uri": "https://localhost:8080/"
        },
        "id": "GN-03o3yGRQ2",
        "outputId": "d1c6efee-c239-4bf5-9d4e-b7aa6a30b7ca"
      },
      "execution_count": 3,
      "outputs": [
        {
          "output_type": "stream",
          "name": "stdout",
          "text": [
            "<class 'numpy.ndarray'>\n",
            "(3,)\n",
            "1 2 3\n",
            "[5 2 3]\n",
            "(2, 3)\n",
            "1 2 4\n"
          ]
        }
      ]
    },
    {
      "cell_type": "code",
      "source": [
        "a = np.zeros((2,2))   # Create an array of all zeros\n",
        "print(a)              # Prints \"[[ 0.  0.]\n",
        "                      #          [ 0.  0.]]\"\n",
        "\n",
        "b = np.ones((1,2))    # Create an array of all ones\n",
        "print(b)              # Prints \"[[ 1.  1.]]\"\n",
        "\n",
        "c = np.full((2,2), 7)  # Create a constant array\n",
        "print(c)               # Prints \"[[ 7.  7.]\n",
        "                       #          [ 7.  7.]]\"\n",
        "\n",
        "d = np.eye(2)         # Create a 2x2 identity matrix\n",
        "print(d)              # Prints \"[[ 1.  0.]\n",
        "                      #          [ 0.  1.]]\"\n",
        "\n",
        "e = np.random.random((2,2))  # Create an array filled with random values\n",
        "print(e)                     # Might print \"[[ 0.91940167  0.08143941]\n",
        "                             #               [ 0.68744134  0.87236687]]\""
      ],
      "metadata": {
        "colab": {
          "base_uri": "https://localhost:8080/"
        },
        "id": "rW7yyHV5GVXi",
        "outputId": "c6636437-6518-4ddf-b733-91d71b337c5c"
      },
      "execution_count": 4,
      "outputs": [
        {
          "output_type": "stream",
          "name": "stdout",
          "text": [
            "[[0. 0.]\n",
            " [0. 0.]]\n",
            "[[1. 1.]]\n",
            "[[7 7]\n",
            " [7 7]]\n",
            "[[1. 0.]\n",
            " [0. 1.]]\n",
            "[[0.3248725  0.48559675]\n",
            " [0.76202914 0.84061453]]\n"
          ]
        }
      ]
    },
    {
      "cell_type": "code",
      "source": [
        "# Create the following rank 2 array with shape (3, 4)\n",
        "# [[ 1  2  3  4]\n",
        "#  [ 5  6  7  8]\n",
        "#  [ 9 10 11 12]]\n",
        "a = np.array([[1,2,3,4], [5,6,7,8], [9,10,11,12]])\n",
        "\n",
        "# Use slicing to pull out the subarray consisting of the first 2 rows\n",
        "# and columns 1 and 2; b is the following array of shape (2, 2):\n",
        "# [[2 3]\n",
        "#  [6 7]]\n",
        "b = a[:2, 1:3]\n",
        "print(b)\n",
        "\n",
        "# A slice of an array is a view into the same data, so modifying it\n",
        "# will modify the original array.\n",
        "print(a[0, 1])   # Prints \"2\"\n",
        "b[0, 0] = 77     # b[0, 0] is the same piece of data as a[0, 1]\n",
        "print(a[0, 1])   # Prints \"77\""
      ],
      "metadata": {
        "colab": {
          "base_uri": "https://localhost:8080/"
        },
        "id": "_ZVOI6HjGcUc",
        "outputId": "d22d15cf-5aaa-47d1-e69a-24854b59f5f8"
      },
      "execution_count": 5,
      "outputs": [
        {
          "output_type": "stream",
          "name": "stdout",
          "text": [
            "[[2 3]\n",
            " [6 7]]\n",
            "2\n",
            "77\n"
          ]
        }
      ]
    },
    {
      "cell_type": "code",
      "source": [
        "# Create the following rank 2 array with shape (3, 4)\n",
        "# [[ 1  2  3  4]\n",
        "#  [ 5  6  7  8]\n",
        "#  [ 9 10 11 12]]\n",
        "a = np.array([[1,2,3,4], [5,6,7,8], [9,10,11,12]])\n",
        "\n",
        "# Two ways of accessing the data in the middle row of the array.\n",
        "# Mixing integer indexing with slices yields an array of lower rank,\n",
        "# while using only slices yields an array of the same rank as the\n",
        "# original array:\n",
        "row_r1 = a[1, :]    # Rank 1 view of the second row of a\n",
        "row_r2 = a[1:2, :]  # Rank 2 view of the second row of a\n",
        "print(row_r1, row_r1.shape)  # Prints \"[5 6 7 8] (4,)\"\n",
        "print(row_r2, row_r2.shape)  # Prints \"[[5 6 7 8]] (1, 4)\"\n",
        "\n",
        "# We can make the same distinction when accessing columns of an array:\n",
        "col_r1 = a[:, 1]\n",
        "col_r2 = a[:, 1:2]\n",
        "print(col_r1, col_r1.shape)  # Prints \"[ 2  6 10] (3,)\"\n",
        "print(col_r2, col_r2.shape)  # Prints \"[[ 2]\n",
        "                             #          [ 6]\n",
        "                             #          [10]] (3, 1)\""
      ],
      "metadata": {
        "colab": {
          "base_uri": "https://localhost:8080/"
        },
        "id": "YW5oU6voHxmy",
        "outputId": "3fd65239-82ae-48a7-86e4-aa02169b4e8f"
      },
      "execution_count": 6,
      "outputs": [
        {
          "output_type": "stream",
          "name": "stdout",
          "text": [
            "[5 6 7 8] (4,)\n",
            "[[5 6 7 8]] (1, 4)\n",
            "[ 2  6 10] (3,)\n",
            "[[ 2]\n",
            " [ 6]\n",
            " [10]] (3, 1)\n"
          ]
        }
      ]
    },
    {
      "cell_type": "code",
      "source": [
        "a = np.array([[1,2], [3, 4], [5, 6]])\n",
        "\n",
        "# An example of integer array indexing.\n",
        "# The returned array will have shape (3,) and\n",
        "print(a[[0, 1, 2], [0, 1, 0]])  # Prints \"[1 4 5]\"\n",
        "\n",
        "# The above example of integer array indexing is equivalent to this:\n",
        "print(np.array([a[0, 0], a[1, 1], a[2, 0]]))  # Prints \"[1 4 5]\"\n",
        "\n",
        "# When using integer array indexing, you can reuse the same\n",
        "# element from the source array:\n",
        "print(a[[0, 0], [1, 1]])  # Prints \"[2 2]\"\n",
        "\n",
        "# Equivalent to the previous integer array indexing example\n",
        "print(np.array([a[0, 1], a[0, 1]]))  # Prints \"[2 2]\""
      ],
      "metadata": {
        "colab": {
          "base_uri": "https://localhost:8080/"
        },
        "id": "jH9KfYJKIdCY",
        "outputId": "8841af42-be03-428d-e67a-57d83a9a266a"
      },
      "execution_count": 7,
      "outputs": [
        {
          "output_type": "stream",
          "name": "stdout",
          "text": [
            "[1 4 5]\n",
            "[1 4 5]\n",
            "[2 2]\n",
            "[2 2]\n"
          ]
        }
      ]
    },
    {
      "cell_type": "code",
      "source": [
        "# Create a new array from which we will select elements\n",
        "a = np.array([[1,2,3], [4,5,6], [7,8,9], [10, 11, 12]])\n",
        "\n",
        "print(a)  # prints \"array([[ 1,  2,  3],\n",
        "          #                [ 4,  5,  6],\n",
        "          #                [ 7,  8,  9],\n",
        "          #                [10, 11, 12]])\"\n",
        "\n",
        "# Create an array of indices\n",
        "b = np.array([0, 2, 0, 1])\n",
        "\n",
        "# Select one element from each row of a using the indices in b\n",
        "print(a[np.arange(4), b])  # Prints \"[ 1  6  7 11]\"\n",
        "\n",
        "# Mutate one element from each row of a using the indices in b\n",
        "a[np.arange(4), b] += 10\n",
        "\n",
        "print(a)  # prints \"array([[11,  2,  3],\n",
        "          #                [ 4,  5, 16],\n",
        "          #                [17,  8,  9],\n",
        "          #                [10, 21, 12]])"
      ],
      "metadata": {
        "colab": {
          "base_uri": "https://localhost:8080/"
        },
        "id": "HS3ZvDbBI--w",
        "outputId": "f38990c7-bc48-4817-b736-22fd3483e4a2"
      },
      "execution_count": 8,
      "outputs": [
        {
          "output_type": "stream",
          "name": "stdout",
          "text": [
            "[[ 1  2  3]\n",
            " [ 4  5  6]\n",
            " [ 7  8  9]\n",
            " [10 11 12]]\n",
            "[ 1  6  7 11]\n",
            "[[11  2  3]\n",
            " [ 4  5 16]\n",
            " [17  8  9]\n",
            " [10 21 12]]\n"
          ]
        }
      ]
    },
    {
      "cell_type": "code",
      "source": [
        "a = np.array([[1,2], [3, 4], [5, 6]])\n",
        "\n",
        "bool_idx = (a > 2)   # Find the elements of a that are bigger than 2;\n",
        "                     # this returns a NumPy array of Booleans of the same\n",
        "                     # shape as a, where each slot of bool_idx tells\n",
        "                     # whether that element of a is > 2.\n",
        "\n",
        "print(bool_idx)      # Prints \"[[False False]\n",
        "                     #          [ True  True]\n",
        "                     #          [ True  True]]\"\n",
        "\n",
        "# We use boolean array indexing to construct a rank 1 array\n",
        "# consisting of the elements of a corresponding to the True values\n",
        "# of bool_idx\n",
        "print(a[bool_idx])  # Prints \"[3 4 5 6]\"\n",
        "\n",
        "# We can do all of the above in a single concise statement:\n",
        "print(a[a > 2])     # Prints \"[3 4 5 6]\""
      ],
      "metadata": {
        "colab": {
          "base_uri": "https://localhost:8080/"
        },
        "id": "m34BfOALM_72",
        "outputId": "7872d60e-8b35-4ddc-d921-c628a443beee"
      },
      "execution_count": 9,
      "outputs": [
        {
          "output_type": "stream",
          "name": "stdout",
          "text": [
            "[[False False]\n",
            " [ True  True]\n",
            " [ True  True]]\n",
            "[3 4 5 6]\n",
            "[3 4 5 6]\n"
          ]
        }
      ]
    },
    {
      "cell_type": "code",
      "source": [
        "x = np.array([1, 2])   # Let NumPy choose the datatype\n",
        "print(x.dtype)         # Prints \"int64\"\n",
        "\n",
        "x = np.array([1.0, 2.0])   # Let NumPy choose the datatype\n",
        "print(x.dtype)             # Prints \"float64\"\n",
        "\n",
        "x = np.array([1, 2], dtype=np.int64)   # Force a particular datatype\n",
        "print(x.dtype)                         # Prints \"int64\""
      ],
      "metadata": {
        "colab": {
          "base_uri": "https://localhost:8080/"
        },
        "id": "sqNnx782PWui",
        "outputId": "aa7bceb0-c993-4965-874c-a92d95f6d6ed"
      },
      "execution_count": 10,
      "outputs": [
        {
          "output_type": "stream",
          "name": "stdout",
          "text": [
            "int64\n",
            "float64\n",
            "int64\n"
          ]
        }
      ]
    },
    {
      "cell_type": "code",
      "source": [
        "x = np.array([[1,2],[3,4]], dtype=np.float64)\n",
        "y = np.array([[5,6],[7,8]], dtype=np.float64)\n",
        "\n",
        "# Elementwise sum; both produce the array\n",
        "# [[ 6.0  8.0]\n",
        "#  [10.0 12.0]]\n",
        "print(x + y)\n",
        "print(np.add(x, y))\n",
        "\n",
        "# Elementwise difference; both produce the array\n",
        "# [[-4.0 -4.0]\n",
        "#  [-4.0 -4.0]]\n",
        "print(x - y)\n",
        "print(np.subtract(x, y))\n",
        "\n",
        "# Elementwise product; both produce the array\n",
        "# [[ 5.0 12.0]\n",
        "#  [21.0 32.0]]\n",
        "print(x * y)\n",
        "print(np.multiply(x, y))\n",
        "\n",
        "# Elementwise division; both produce the array\n",
        "# [[ 0.2         0.33333333]\n",
        "#  [ 0.42857143  0.5       ]]\n",
        "print(x / y)\n",
        "print(np.divide(x, y))\n",
        "\n",
        "# Elementwise square root; produces the array\n",
        "# [[ 1.          1.41421356]\n",
        "#  [ 1.73205081  2.        ]]\n",
        "print(np.sqrt(x))"
      ],
      "metadata": {
        "colab": {
          "base_uri": "https://localhost:8080/"
        },
        "id": "-s9Zv9W8Pout",
        "outputId": "9291a60d-d61d-4d3d-ca31-f9bf13542dd5"
      },
      "execution_count": 11,
      "outputs": [
        {
          "output_type": "stream",
          "name": "stdout",
          "text": [
            "[[ 6.  8.]\n",
            " [10. 12.]]\n",
            "[[ 6.  8.]\n",
            " [10. 12.]]\n",
            "[[-4. -4.]\n",
            " [-4. -4.]]\n",
            "[[-4. -4.]\n",
            " [-4. -4.]]\n",
            "[[ 5. 12.]\n",
            " [21. 32.]]\n",
            "[[ 5. 12.]\n",
            " [21. 32.]]\n",
            "[[0.2        0.33333333]\n",
            " [0.42857143 0.5       ]]\n",
            "[[0.2        0.33333333]\n",
            " [0.42857143 0.5       ]]\n",
            "[[1.         1.41421356]\n",
            " [1.73205081 2.        ]]\n"
          ]
        }
      ]
    },
    {
      "cell_type": "code",
      "source": [
        "x = np.array([[1,2],[3,4]])\n",
        "y = np.array([[5,6],[7,8]])\n",
        "\n",
        "v = np.array([9,10])\n",
        "w = np.array([11, 12])\n",
        "\n",
        "# Inner product of vectors; both produce 219\n",
        "print(v.dot(w))\n",
        "print(np.dot(v, w))\n",
        "\n",
        "# Matrix / vector product; both produce the rank 1 array [29 67]\n",
        "print(x.dot(v))\n",
        "print(np.dot(x, v))\n",
        "\n",
        "# Matrix / matrix product; both produce the rank 2 array\n",
        "# [[19 22]\n",
        "#  [43 50]]\n",
        "print(x.dot(y))\n",
        "print(np.dot(x, y))"
      ],
      "metadata": {
        "colab": {
          "base_uri": "https://localhost:8080/"
        },
        "id": "JnqaM-awPtst",
        "outputId": "15262d9c-2248-4ee5-e776-51749a6a5f15"
      },
      "execution_count": 12,
      "outputs": [
        {
          "output_type": "stream",
          "name": "stdout",
          "text": [
            "219\n",
            "219\n",
            "[29 67]\n",
            "[29 67]\n",
            "[[19 22]\n",
            " [43 50]]\n",
            "[[19 22]\n",
            " [43 50]]\n"
          ]
        }
      ]
    },
    {
      "cell_type": "code",
      "source": [
        "x = np.array([[1,2],[3,4]])\n",
        "\n",
        "print(np.sum(x))  # Compute sum of all elements; prints \"10\"\n",
        "print(np.sum(x, axis=0))  # Compute sum of each column; prints \"[4 6]\"\n",
        "print(np.sum(x, axis=1))  # Compute sum of each row; prints \"[3 7]\""
      ],
      "metadata": {
        "colab": {
          "base_uri": "https://localhost:8080/"
        },
        "id": "97XbJ3w2QHPL",
        "outputId": "b9842607-6f74-43a2-8fb3-bb675ea3c3ef"
      },
      "execution_count": 13,
      "outputs": [
        {
          "output_type": "stream",
          "name": "stdout",
          "text": [
            "10\n",
            "[4 6]\n",
            "[3 7]\n"
          ]
        }
      ]
    },
    {
      "cell_type": "code",
      "source": [
        "x = np.array([[1,2], [3,4]])\n",
        "print(x)    # Prints \"[[1 2]\n",
        "            #          [3 4]]\"\n",
        "print(x.T)  # Prints \"[[1 3]\n",
        "            #          [2 4]]\"\n",
        "\n",
        "# Note that taking the transpose of a rank 1 array does nothing:\n",
        "v = np.array([1,2,3])\n",
        "print(v)    # Prints \"[1 2 3]\"\n",
        "print(v.T)  # Prints \"[1 2 3]\""
      ],
      "metadata": {
        "colab": {
          "base_uri": "https://localhost:8080/"
        },
        "id": "jhNLq-2DRFtE",
        "outputId": "741bf0c8-cd14-4da1-fd32-09821898fc1e"
      },
      "execution_count": 14,
      "outputs": [
        {
          "output_type": "stream",
          "name": "stdout",
          "text": [
            "[[1 2]\n",
            " [3 4]]\n",
            "[[1 3]\n",
            " [2 4]]\n",
            "[1 2 3]\n",
            "[1 2 3]\n"
          ]
        }
      ]
    },
    {
      "cell_type": "code",
      "source": [
        "# We will add the vector v to each row of the matrix x,\n",
        "# storing the result in the matrix y\n",
        "x = np.array([[1,2,3], [4,5,6], [7,8,9], [10, 11, 12]])\n",
        "v = np.array([1, 0, 1])\n",
        "y = np.empty_like(x)   # Create an empty matrix with the same shape as x\n",
        "\n",
        "# Add the vector v to each row of the matrix x with an explicit loop\n",
        "for i in range(4):\n",
        "    y[i, :] = x[i, :] + v\n",
        "\n",
        "# Now y is the following\n",
        "# [[ 2  2  4]\n",
        "#  [ 5  5  7]\n",
        "#  [ 8  8 10]\n",
        "#  [11 11 13]]\n",
        "print(y)"
      ],
      "metadata": {
        "colab": {
          "base_uri": "https://localhost:8080/"
        },
        "id": "A8f6EkYHRQ90",
        "outputId": "904a1dbf-43b5-4917-cf6f-888113ab1439"
      },
      "execution_count": 15,
      "outputs": [
        {
          "output_type": "stream",
          "name": "stdout",
          "text": [
            "[[ 2  2  4]\n",
            " [ 5  5  7]\n",
            " [ 8  8 10]\n",
            " [11 11 13]]\n"
          ]
        }
      ]
    },
    {
      "cell_type": "code",
      "source": [
        "# We will add the vector v to each row of the matrix x,\n",
        "# storing the result in the matrix y\n",
        "x = np.array([[1,2,3], [4,5,6], [7,8,9], [10, 11, 12]])\n",
        "v = np.array([1, 0, 1])\n",
        "vv = np.tile(v, (4, 1))   # Stack 4 copies of v on top of each other\n",
        "print(vv)                 # Prints \"[[1 0 1]\n",
        "                          #          [1 0 1]\n",
        "                          #          [1 0 1]\n",
        "                          #          [1 0 1]]\"\n",
        "y = x + vv  # Add x and vv elementwise\n",
        "print(y)  # Prints \"[[ 2  2  4\n",
        "          #          [ 5  5  7]\n",
        "          #          [ 8  8 10]\n",
        "          #          [11 11 13]]\""
      ],
      "metadata": {
        "colab": {
          "base_uri": "https://localhost:8080/"
        },
        "id": "Z4bFBFQkSFBe",
        "outputId": "8b7a370d-4cea-48a5-ee81-8acbb6300dd1"
      },
      "execution_count": 16,
      "outputs": [
        {
          "output_type": "stream",
          "name": "stdout",
          "text": [
            "[[1 0 1]\n",
            " [1 0 1]\n",
            " [1 0 1]\n",
            " [1 0 1]]\n",
            "[[ 2  2  4]\n",
            " [ 5  5  7]\n",
            " [ 8  8 10]\n",
            " [11 11 13]]\n"
          ]
        }
      ]
    },
    {
      "cell_type": "code",
      "source": [
        "# We will add the vector v to each row of the matrix x,\n",
        "# storing the result in the matrix y\n",
        "x = np.array([[1,2,3], [4,5,6], [7,8,9], [10, 11, 12]])\n",
        "v = np.array([1, 0, 1])\n",
        "y = x + v  # Add v to each row of x using broadcasting\n",
        "print(y)  # Prints \"[[ 2  2  4]\n",
        "          #          [ 5  5  7]\n",
        "          #          [ 8  8 10]\n",
        "          #          [11 11 13]]\""
      ],
      "metadata": {
        "colab": {
          "base_uri": "https://localhost:8080/"
        },
        "id": "v4H9ply4SZLC",
        "outputId": "56177c1a-0c26-4842-89f8-7798e1067e83"
      },
      "execution_count": 17,
      "outputs": [
        {
          "output_type": "stream",
          "name": "stdout",
          "text": [
            "[[ 2  2  4]\n",
            " [ 5  5  7]\n",
            " [ 8  8 10]\n",
            " [11 11 13]]\n"
          ]
        }
      ]
    },
    {
      "cell_type": "code",
      "source": [
        "# Compute outer product of vectors\n",
        "v = np.array([1,2,3])  # v has shape (3,)\n",
        "w = np.array([4,5])    # w has shape (2,)\n",
        "\n",
        "# To compute an outer product, we first reshape v to be a column\n",
        "# vector of shape (3, 1); we can then broadcast it against w to yield\n",
        "# an output of shape (3, 2), which is the outer product of v and w:\n",
        "# [[ 4  5]\n",
        "#  [ 8 10]\n",
        "#  [12 15]]\n",
        "print(np.reshape(v, (3, 1)) * w)\n",
        "\n",
        "# Add a vector to each row of a matrix\n",
        "x = np.array([[1,2,3], [4,5,6]])\n",
        "# x has shape (2, 3) and v has shape (3,) so they broadcast to (2, 3),\n",
        "# giving the following matrix:\n",
        "# [[2 4 6]\n",
        "#  [5 7 9]]\n",
        "print(x + v)\n",
        "\n",
        "# Add a vector to each column of a matrix\n",
        "# x has shape (2, 3) and w has shape (2,).\n",
        "# If we transpose x then it has shape (3, 2) and can be broadcast\n",
        "# against w to yield a result of shape (3, 2); transposing this result\n",
        "# yields the final result of shape (2, 3) which is the matrix x with\n",
        "# the vector w added to each column. Gives the following matrix:\n",
        "# [[ 5  6  7]\n",
        "#  [ 9 10 11]]\n",
        "print((x.T + w).T)\n",
        "# Another solution is to reshape w to be a column vector of shape (2, 1);\n",
        "# we can then broadcast it directly against x to produce the same\n",
        "# output.\n",
        "print(x + np.reshape(w, (2, 1)))\n",
        "\n",
        "# Multiply a matrix by a constant:\n",
        "# x has shape (2, 3). NumPy treats scalars as arrays of shape ();\n",
        "# these can be broadcast together to shape (2, 3), producing the\n",
        "# following array:\n",
        "# [[ 2  4  6]\n",
        "#  [ 8 10 12]]\n",
        "print(x * 2)"
      ],
      "metadata": {
        "colab": {
          "base_uri": "https://localhost:8080/"
        },
        "id": "776qhdFwSv32",
        "outputId": "d1a07f08-229c-41ba-da8f-373038f2fd15"
      },
      "execution_count": 18,
      "outputs": [
        {
          "output_type": "stream",
          "name": "stdout",
          "text": [
            "[[ 4  5]\n",
            " [ 8 10]\n",
            " [12 15]]\n",
            "[[2 4 6]\n",
            " [5 7 9]]\n",
            "[[ 5  6  7]\n",
            " [ 9 10 11]]\n",
            "[[ 5  6  7]\n",
            " [ 9 10 11]]\n",
            "[[ 2  4  6]\n",
            " [ 8 10 12]]\n"
          ]
        }
      ]
    },
    {
      "cell_type": "markdown",
      "source": [
        "# 6. Reshaping arrays with NumPy"
      ],
      "metadata": {
        "id": "EVokpHl6XjP0"
      }
    },
    {
      "cell_type": "code",
      "source": [
        "def reshape_array(arr):\n",
        "  return arr.reshape(arr.shape[0]*arr.shape[1]*arr.shape[2], 1)"
      ],
      "metadata": {
        "id": "s_nRSTntTTsu"
      },
      "execution_count": 19,
      "outputs": []
    },
    {
      "cell_type": "code",
      "source": [
        "arr = np.random.rand(1, 2, 3)\n",
        "reshaped_array = reshape_array(arr)\n",
        "print(\"Reshaped Array's Shape: \")\n",
        "print(reshaped_array.shape)"
      ],
      "metadata": {
        "colab": {
          "base_uri": "https://localhost:8080/"
        },
        "id": "b2DgabTxlW6w",
        "outputId": "940f93ce-a8c5-43b3-d9ba-c6b9b87bd19f"
      },
      "execution_count": 20,
      "outputs": [
        {
          "output_type": "stream",
          "name": "stdout",
          "text": [
            "Reshaped Array's Shape: \n",
            "(6, 1)\n"
          ]
        }
      ]
    },
    {
      "cell_type": "markdown",
      "source": [
        "# 7. Building a basic mathematical function with NumPy"
      ],
      "metadata": {
        "id": "ZBEiFNGKmDc_"
      }
    },
    {
      "cell_type": "markdown",
      "source": [
        "## Using math.exp"
      ],
      "metadata": {
        "id": "IXrubDGYmcIa"
      }
    },
    {
      "cell_type": "code",
      "source": [
        "def sigmoid_math(x):\n",
        "  return ( 1 / (1 + math.exp(-x)) )"
      ],
      "metadata": {
        "id": "BaEtUvaOmei2"
      },
      "execution_count": 21,
      "outputs": []
    },
    {
      "cell_type": "code",
      "source": [
        "print(\"Sigmoid Function using math.exp: \")\n",
        "print(sigmoid_math(4))"
      ],
      "metadata": {
        "colab": {
          "base_uri": "https://localhost:8080/"
        },
        "id": "zJsMX3RrmzPM",
        "outputId": "d0870a15-56a4-495f-ddb1-615d8a5f7e1a"
      },
      "execution_count": 22,
      "outputs": [
        {
          "output_type": "stream",
          "name": "stdout",
          "text": [
            "Sigmoid Function using math.exp: \n",
            "0.9820137900379085\n"
          ]
        }
      ]
    },
    {
      "cell_type": "code",
      "source": [
        "x_val = np.array([1, 2, 3, 4, 5])\n",
        "sigmoid_val = sigmoid_math(x_val)"
      ],
      "metadata": {
        "colab": {
          "base_uri": "https://localhost:8080/",
          "height": 274
        },
        "id": "mEWRquWbntdu",
        "outputId": "7a745998-6949-4ea7-8db4-6fa8c4eed8fc"
      },
      "execution_count": 23,
      "outputs": [
        {
          "output_type": "error",
          "ename": "TypeError",
          "evalue": "only size-1 arrays can be converted to Python scalars",
          "traceback": [
            "\u001b[0;31m---------------------------------------------------------------------------\u001b[0m",
            "\u001b[0;31mTypeError\u001b[0m                                 Traceback (most recent call last)",
            "\u001b[0;32m<ipython-input-23-e9758ecefb89>\u001b[0m in \u001b[0;36m<cell line: 2>\u001b[0;34m()\u001b[0m\n\u001b[1;32m      1\u001b[0m \u001b[0mx_val\u001b[0m \u001b[0;34m=\u001b[0m \u001b[0mnp\u001b[0m\u001b[0;34m.\u001b[0m\u001b[0marray\u001b[0m\u001b[0;34m(\u001b[0m\u001b[0;34m[\u001b[0m\u001b[0;36m1\u001b[0m\u001b[0;34m,\u001b[0m \u001b[0;36m2\u001b[0m\u001b[0;34m,\u001b[0m \u001b[0;36m3\u001b[0m\u001b[0;34m,\u001b[0m \u001b[0;36m4\u001b[0m\u001b[0;34m,\u001b[0m \u001b[0;36m5\u001b[0m\u001b[0;34m]\u001b[0m\u001b[0;34m)\u001b[0m\u001b[0;34m\u001b[0m\u001b[0;34m\u001b[0m\u001b[0m\n\u001b[0;32m----> 2\u001b[0;31m \u001b[0msigmoid_val\u001b[0m \u001b[0;34m=\u001b[0m \u001b[0msigmoid_math\u001b[0m\u001b[0;34m(\u001b[0m\u001b[0mx_val\u001b[0m\u001b[0;34m)\u001b[0m\u001b[0;34m\u001b[0m\u001b[0;34m\u001b[0m\u001b[0m\n\u001b[0m",
            "\u001b[0;32m<ipython-input-21-5ab96a9f38ac>\u001b[0m in \u001b[0;36msigmoid_math\u001b[0;34m(x)\u001b[0m\n\u001b[1;32m      1\u001b[0m \u001b[0;32mdef\u001b[0m \u001b[0msigmoid_math\u001b[0m\u001b[0;34m(\u001b[0m\u001b[0mx\u001b[0m\u001b[0;34m)\u001b[0m\u001b[0;34m:\u001b[0m\u001b[0;34m\u001b[0m\u001b[0;34m\u001b[0m\u001b[0m\n\u001b[0;32m----> 2\u001b[0;31m   \u001b[0;32mreturn\u001b[0m \u001b[0;34m(\u001b[0m \u001b[0;36m1\u001b[0m \u001b[0;34m/\u001b[0m \u001b[0;34m(\u001b[0m\u001b[0;36m1\u001b[0m \u001b[0;34m+\u001b[0m \u001b[0mmath\u001b[0m\u001b[0;34m.\u001b[0m\u001b[0mexp\u001b[0m\u001b[0;34m(\u001b[0m\u001b[0;34m-\u001b[0m\u001b[0mx\u001b[0m\u001b[0;34m)\u001b[0m\u001b[0;34m)\u001b[0m \u001b[0;34m)\u001b[0m\u001b[0;34m\u001b[0m\u001b[0;34m\u001b[0m\u001b[0m\n\u001b[0m",
            "\u001b[0;31mTypeError\u001b[0m: only size-1 arrays can be converted to Python scalars"
          ]
        }
      ]
    },
    {
      "cell_type": "markdown",
      "source": [
        "## Using numpy.exp"
      ],
      "metadata": {
        "id": "wIC8Zls8n7Pq"
      }
    },
    {
      "cell_type": "code",
      "source": [
        "def sigmoid_numpy(x):\n",
        "    return ( 1 / (1 + np.exp(-x)) )"
      ],
      "metadata": {
        "id": "2bx0ID13n31W"
      },
      "execution_count": 24,
      "outputs": []
    },
    {
      "cell_type": "code",
      "source": [
        "x_val = np.array([1, 2, 3, 4, 5])\n",
        "sigmoid_val = sigmoid_numpy(x_val)\n",
        "print(\"Sigmoid Function using numpy.exp:\")\n",
        "print(sigmoid_val)"
      ],
      "metadata": {
        "colab": {
          "base_uri": "https://localhost:8080/"
        },
        "id": "j9_E0-VAoIVM",
        "outputId": "07b1de44-cfcb-4a45-f77f-3ff90f4a64d4"
      },
      "execution_count": 25,
      "outputs": [
        {
          "output_type": "stream",
          "name": "stdout",
          "text": [
            "Sigmoid Function using numpy.exp:\n",
            "[0.73105858 0.88079708 0.95257413 0.98201379 0.99330715]\n"
          ]
        }
      ]
    },
    {
      "cell_type": "markdown",
      "source": [
        "# 8. Implementing a function on a matrix"
      ],
      "metadata": {
        "id": "Ufoiq-Y4oajE"
      }
    },
    {
      "cell_type": "code",
      "source": [
        "def softmax(mtx):\n",
        "    exp_mtx = np.exp(mtx)\n",
        "    return exp_mtx / np.sum(exp_mtx, axis=1, keepdims=True)"
      ],
      "metadata": {
        "id": "FdxJDV8hoWHG"
      },
      "execution_count": 26,
      "outputs": []
    },
    {
      "cell_type": "code",
      "source": [
        "mtx = np.array([[1.2, 2.4, 3.6], [3.6, 2.4, 1.2]])\n",
        "result = softmax(mtx)\n",
        "print(\"Softmax Function Results: \")\n",
        "print(result)"
      ],
      "metadata": {
        "colab": {
          "base_uri": "https://localhost:8080/"
        },
        "id": "uNhMDGBqox75",
        "outputId": "e2c2a4c5-c91e-4422-f490-0933ea1b9f66"
      },
      "execution_count": 27,
      "outputs": [
        {
          "output_type": "stream",
          "name": "stdout",
          "text": [
            "Softmax Function Results: \n",
            "[[0.06517506 0.21638881 0.71843614]\n",
            " [0.71843614 0.21638881 0.06517506]]\n"
          ]
        }
      ]
    },
    {
      "cell_type": "markdown",
      "source": [
        "# 9. Finding dot product using NumPy"
      ],
      "metadata": {
        "id": "MFSvOb03p-V3"
      }
    },
    {
      "cell_type": "markdown",
      "source": [
        "## Using standard python"
      ],
      "metadata": {
        "id": "XbO3VAfDqJF1"
      }
    },
    {
      "cell_type": "code",
      "source": [
        "def dot_product_python(array1, array2):\n",
        "    return sum(x * y for x, y in zip(array1, array2))"
      ],
      "metadata": {
        "id": "VIpDaEcXpBp-"
      },
      "execution_count": 28,
      "outputs": []
    },
    {
      "cell_type": "markdown",
      "source": [
        "## Using numpy.dot function"
      ],
      "metadata": {
        "id": "cIiWMGkhqajM"
      }
    },
    {
      "cell_type": "code",
      "source": [
        "def dot_product_numpy(array1, array2):\n",
        "    return np.dot(array1, array2)"
      ],
      "metadata": {
        "id": "uMA2_GloqPI0"
      },
      "execution_count": 29,
      "outputs": []
    },
    {
      "cell_type": "markdown",
      "source": [
        "## Time difference"
      ],
      "metadata": {
        "id": "BSnSmDXNq0Fa"
      }
    },
    {
      "cell_type": "code",
      "source": [
        "arr1 = list(range(1000))\n",
        "arr2 = list(range(1000))\n",
        "start_time = time.time()\n",
        "result_using_simple_python = dot_product_python(arr1, arr2)\n",
        "elapsed_time_simple_python = time.time() - start_time\n",
        "\n",
        "print(\"Simple Python implementation result:\", result_using_simple_python)\n",
        "print(\"Time taken (Python):\", elapsed_time_simple_python)\n",
        "\n",
        "arr3 = np.array(arr1)\n",
        "arr4 = np.array(arr2)\n",
        "start_time = time.time()\n",
        "result_using_numpy = dot_product_numpy(arr3, arr4)\n",
        "elapsed_time_numpy = time.time() - start_time\n",
        "\n",
        "print(\"Numpy implementation result:\", result_using_numpy)\n",
        "print(\"Time taken (NumPy):\", elapsed_time_numpy)"
      ],
      "metadata": {
        "colab": {
          "base_uri": "https://localhost:8080/"
        },
        "id": "mJ7TgOI2qzaz",
        "outputId": "5e27c8d7-09c4-4c52-d3c2-362a65024412"
      },
      "execution_count": 31,
      "outputs": [
        {
          "output_type": "stream",
          "name": "stdout",
          "text": [
            "Simple Python implementation result: 332833500\n",
            "Time taken (Python): 0.0003325939178466797\n",
            "Numpy implementation result: 332833500\n",
            "Time taken (NumPy): 0.00015401840209960938\n"
          ]
        }
      ]
    },
    {
      "cell_type": "markdown",
      "source": [
        "# 10. Finding outer product using NumPy"
      ],
      "metadata": {
        "id": "ZfB2AVPbsIpY"
      }
    },
    {
      "cell_type": "markdown",
      "source": [
        "## Using standard python"
      ],
      "metadata": {
        "id": "8PEmHXBQsb7k"
      }
    },
    {
      "cell_type": "code",
      "source": [
        "def outer_product_python(array1, array2):\n",
        "    return [[a * b for b in array2] for a in array1]"
      ],
      "metadata": {
        "id": "MWwcGhEUseN7"
      },
      "execution_count": 32,
      "outputs": []
    },
    {
      "cell_type": "markdown",
      "source": [
        "## Using numpy.outer function"
      ],
      "metadata": {
        "id": "d_oY8qQtseeC"
      }
    },
    {
      "cell_type": "code",
      "source": [
        "def outer_product_numpy(arr1, arr2):\n",
        "    return np.outer(arr1, arr2)"
      ],
      "metadata": {
        "id": "6Djby_nZsD7r"
      },
      "execution_count": 33,
      "outputs": []
    },
    {
      "cell_type": "markdown",
      "source": [
        "## Time difference"
      ],
      "metadata": {
        "id": "vikBmoqNs3lx"
      }
    },
    {
      "cell_type": "code",
      "source": [
        "start_time = time.time()\n",
        "result_using_simple_python = outer_product_python(arr1, arr2)\n",
        "elapsed_time_simple_python = time.time() - start_time\n",
        "\n",
        "print(\"Python implementation result: \")\n",
        "for row in result_using_simple_python[:4]:\n",
        "    print(row[:4])\n",
        "print(\"Time taken (Python): \", elapsed_time_simple_python)\n",
        "\n",
        "start_time = time.time()\n",
        "result_using_numpy = outer_product_numpy(arr3, arr4)\n",
        "elapsed_time_using_numpy = time.time() - start_time\n",
        "\n",
        "\n",
        "print(\"NumPy implementation result: \")\n",
        "print(result_using_numpy[:4, :4])\n",
        "print(\"Time taken (NumPy): \", elapsed_time_using_numpy)"
      ],
      "metadata": {
        "colab": {
          "base_uri": "https://localhost:8080/"
        },
        "id": "v0gGOWdXs3BW",
        "outputId": "29ef3216-6491-465b-e602-7d7b9c47a695"
      },
      "execution_count": 34,
      "outputs": [
        {
          "output_type": "stream",
          "name": "stdout",
          "text": [
            "Python implementation result: \n",
            "[0, 0, 0, 0]\n",
            "[0, 1, 2, 3]\n",
            "[0, 2, 4, 6]\n",
            "[0, 3, 6, 9]\n",
            "Time taken (Python):  0.08939647674560547\n",
            "NumPy implementation result: \n",
            "[[0 0 0 0]\n",
            " [0 1 2 3]\n",
            " [0 2 4 6]\n",
            " [0 3 6 9]]\n",
            "Time taken (NumPy):  0.004548788070678711\n"
          ]
        }
      ]
    },
    {
      "cell_type": "markdown",
      "source": [
        "# 11. Defining loss function"
      ],
      "metadata": {
        "id": "KaJLxjw9SvoX"
      }
    },
    {
      "cell_type": "markdown",
      "source": [
        "## Using standard python lists"
      ],
      "metadata": {
        "id": "IWVMEQu4S1w7"
      }
    },
    {
      "cell_type": "code",
      "source": [
        "def loss_f1_python(list1, list2):\n",
        "    return sum(abs(a - b) for a, b in zip(list1, list2))"
      ],
      "metadata": {
        "id": "7B8ggFdVtyfU"
      },
      "execution_count": 35,
      "outputs": []
    },
    {
      "cell_type": "code",
      "source": [
        "def loss_f2_python(list1, list2):\n",
        "    return sum((a - b) ** 2 for a, b in zip(list1, list2))"
      ],
      "metadata": {
        "id": "tlpVupnDTEvw"
      },
      "execution_count": 36,
      "outputs": []
    },
    {
      "cell_type": "markdown",
      "source": [
        "## Using numpy arrays"
      ],
      "metadata": {
        "id": "3VM60vlpS4PP"
      }
    },
    {
      "cell_type": "code",
      "source": [
        "def loss_f1_numpy(arr1, arr2):\n",
        "    return np.sum(np.abs(arr1 - arr2))"
      ],
      "metadata": {
        "id": "bV5X8K0ETFRZ"
      },
      "execution_count": 37,
      "outputs": []
    },
    {
      "cell_type": "code",
      "source": [
        "def loss_f2_numpy(arr1, arr2):\n",
        "    return np.sum((arr1 - arr2) ** 2)"
      ],
      "metadata": {
        "id": "B2Hsc1RWS65w"
      },
      "execution_count": 38,
      "outputs": []
    },
    {
      "cell_type": "markdown",
      "source": [
        "## Time difference"
      ],
      "metadata": {
        "id": "0ftmCXYNTalu"
      }
    },
    {
      "cell_type": "code",
      "source": [
        "vector1 = np.array(list(range(1000)))\n",
        "vector2 = np.array(list(range(5,1005)))\n",
        "\n",
        "start_time = time.time()\n",
        "loss_f1_result_python = loss_f1_python(vector1, vector2)\n",
        "elapsed_time_loss1_f1_python = time.time() - start_time\n",
        "\n",
        "start_time = time.time()\n",
        "loss_f1_result_numpy = loss_f1_numpy(vector1, vector2)\n",
        "elapsed_time_loss1_f1_numpy = time.time() - start_time\n",
        "\n",
        "start_time = time.time()\n",
        "loss_f2_result_python = loss_f2_python(vector1, vector2)\n",
        "elapsed_time_loss2_f2_python = time.time() - start_time\n",
        "\n",
        "start_time = time.time()\n",
        "loss_f2_result_numpy = loss_f2_numpy(vector1, vector2)\n",
        "elapsed_time_loss2_f2_numpy = time.time() - start_time\n",
        "\n",
        "print(\"Loss Funtion 1:\")\n",
        "print(\"Python implementation result: \", loss_f1_result_python)\n",
        "print(\"Python implementation time: \", elapsed_time_loss1_f1_python)\n",
        "print(\"NumPy implementation result: \", loss_f1_result_numpy)\n",
        "print(\"NumPy implementation time: \", elapsed_time_loss1_f1_numpy)\n",
        "\n",
        "print(\"Loss Function 2:\")\n",
        "print(\"Python implementation result: \", loss_f2_result_python)\n",
        "print(\"Python implementation time: \", elapsed_time_loss2_f2_python)\n",
        "print(\"NumPy implementation result: \", loss_f2_result_numpy)\n",
        "print(\"NumPy implementation time: \", elapsed_time_loss2_f2_numpy)"
      ],
      "metadata": {
        "colab": {
          "base_uri": "https://localhost:8080/"
        },
        "id": "HNYBNiTxTcFX",
        "outputId": "4e0df1e8-2aae-4cdd-947f-77541bb6289a"
      },
      "execution_count": 39,
      "outputs": [
        {
          "output_type": "stream",
          "name": "stdout",
          "text": [
            "Loss Funtion 1:\n",
            "Python implementation result:  5000\n",
            "Python implementation time:  0.00041556358337402344\n",
            "NumPy implementation result:  5000\n",
            "NumPy implementation time:  0.00093841552734375\n",
            "Loss Function 2:\n",
            "Python implementation result:  25000\n",
            "Python implementation time:  0.0003795623779296875\n",
            "NumPy implementation result:  25000\n",
            "NumPy implementation time:  0.00010418891906738281\n"
          ]
        }
      ]
    },
    {
      "cell_type": "markdown",
      "source": [
        "# 12. Perform matrix and matrix addition"
      ],
      "metadata": {
        "id": "uh1H6xmTVqCk"
      }
    },
    {
      "cell_type": "markdown",
      "source": [
        "## Using standard python"
      ],
      "metadata": {
        "id": "Kgtz9h82V8Fd"
      }
    },
    {
      "cell_type": "code",
      "source": [
        "def matrix_addition_python(mtx1, mtx2):\n",
        "    return [[a + b for a, b in zip(row1, row2)] for row1, row2 in zip(mtx1, mtx2)]"
      ],
      "metadata": {
        "id": "OjvTo7yHV25m"
      },
      "execution_count": 40,
      "outputs": []
    },
    {
      "cell_type": "markdown",
      "source": [
        "## Using numpy"
      ],
      "metadata": {
        "id": "OIw7xM1OV-Ix"
      }
    },
    {
      "cell_type": "code",
      "source": [
        "def matrix_addition_numpy(mtx1, mtx2):\n",
        "    return np.add(mtx1, mtx2)"
      ],
      "metadata": {
        "id": "ldbnz282V_ct"
      },
      "execution_count": 41,
      "outputs": []
    },
    {
      "cell_type": "markdown",
      "source": [
        "## Time difference"
      ],
      "metadata": {
        "id": "sLwjvW1lWCCp"
      }
    },
    {
      "cell_type": "code",
      "source": [
        "matrix1 = np.random.rand(20, 30)\n",
        "matrix2 = np.random.rand(20, 30)\n",
        "\n",
        "start_time = time.time()\n",
        "matrix_addition_result_python = matrix_addition_python(matrix1, matrix2)\n",
        "elapsed_time_python = time.time() - start_time\n",
        "\n",
        "print(\"Python implementation result: \")\n",
        "for row in matrix_addition_result_python[:4]:\n",
        "    print(row[:4])\n",
        "print(\"Python implementation time: \")\n",
        "print(elapsed_time_python)\n",
        "\n",
        "start_time = time.time()\n",
        "matrix_addition_result_numpy = matrix_addition_numpy(matrix1, matrix2)\n",
        "elapsed_time_numpy = time.time() - start_time\n",
        "\n",
        "print(\"NumPy implementation result: \")\n",
        "print(matrix_addition_result_numpy[:4,:4])\n",
        "print(\"NumPy implementation time: \")\n",
        "print(elapsed_time_numpy)"
      ],
      "metadata": {
        "colab": {
          "base_uri": "https://localhost:8080/"
        },
        "id": "1bgGFQtBWDbN",
        "outputId": "88a247c4-ac27-4c88-874f-7d522535e4bb"
      },
      "execution_count": 42,
      "outputs": [
        {
          "output_type": "stream",
          "name": "stdout",
          "text": [
            "Python implementation result: \n",
            "[0.6671588046063148, 1.7806112507758503, 1.2675193632081276, 1.2705022361548801]\n",
            "[0.9601096114737218, 1.0701246290516013, 0.537119124092107, 0.5441327132166295]\n",
            "[1.397384169785051, 1.6279903947351588, 1.1997296287849797, 0.9531933200445901]\n",
            "[0.6847107851681993, 0.6844282204688842, 1.0570474446661873, 0.30410677697374844]\n",
            "Python implementation time: \n",
            "0.0005085468292236328\n",
            "NumPy implementation result: \n",
            "[[0.6671588  1.78061125 1.26751936 1.27050224]\n",
            " [0.96010961 1.07012463 0.53711912 0.54413271]\n",
            " [1.39738417 1.62799039 1.19972963 0.95319332]\n",
            " [0.68471079 0.68442822 1.05704744 0.30410678]]\n",
            "NumPy implementation time: \n",
            "0.00015115737915039062\n"
          ]
        }
      ]
    },
    {
      "cell_type": "markdown",
      "source": [
        "# 13. Perform matrix and vector multiplication"
      ],
      "metadata": {
        "id": "tjJ2TlByVtwE"
      }
    },
    {
      "cell_type": "markdown",
      "source": [
        "## Using standard python"
      ],
      "metadata": {
        "id": "tAmLj93VW_GT"
      }
    },
    {
      "cell_type": "code",
      "source": [
        "def matrix_vector_multiplication_python(mtx, vec):\n",
        "    return [sum(a * b for a, b in zip(row, vec)) for row in mtx]"
      ],
      "metadata": {
        "id": "zJCDJqSyXEbO"
      },
      "execution_count": 43,
      "outputs": []
    },
    {
      "cell_type": "markdown",
      "source": [
        "## Using numpy"
      ],
      "metadata": {
        "id": "VMnb6LBPXBJq"
      }
    },
    {
      "cell_type": "code",
      "source": [
        "def matrix_vector_multiplication_numpy(mtx, vec):\n",
        "    return np.dot(mtx, vec)"
      ],
      "metadata": {
        "id": "G1EwpU3gXLaO"
      },
      "execution_count": 44,
      "outputs": []
    },
    {
      "cell_type": "markdown",
      "source": [
        "## Time difference"
      ],
      "metadata": {
        "id": "LtyOdu0qXChe"
      }
    },
    {
      "cell_type": "code",
      "source": [
        "matrix = np.random.rand(20, 30)\n",
        "vector = np.random.rand(30)\n",
        "\n",
        "start_time = time.time()\n",
        "matrix_vector_multiplication_result_python = matrix_vector_multiplication_python(matrix, vector)\n",
        "elapsed_time_python = time.time() - start_time\n",
        "\n",
        "print(\"Python implementation result: \", matrix_vector_multiplication_result_python)\n",
        "print(\"Python implementation time: \", elapsed_time_python)\n",
        "\n",
        "start_time = time.time()\n",
        "matrix_vector_multiplication_result_numpy = matrix_vector_multiplication_numpy(matrix, vector)\n",
        "elapsed_time_numpy = time.time() - start_time\n",
        "\n",
        "print(\"NumPy implementation result: \", matrix_vector_multiplication_result_numpy)\n",
        "print(\"NumPy implementation time: \", elapsed_time_numpy)\n"
      ],
      "metadata": {
        "colab": {
          "base_uri": "https://localhost:8080/"
        },
        "id": "K_ZCb0HzXPdy",
        "outputId": "4d38aa24-8353-4b1e-dab5-c8900ff7696c"
      },
      "execution_count": 47,
      "outputs": [
        {
          "output_type": "stream",
          "name": "stdout",
          "text": [
            "Python implementation result:  [6.820944222404255, 7.839410226786756, 6.590993081890601, 9.587432025374918, 8.240537976920685, 8.068086366909998, 6.975933683743836, 6.703805539371213, 7.448038907167469, 7.728332333329893, 9.878866918626624, 8.599875975566345, 7.4943862064009386, 9.38629482170005, 6.152242268246153, 6.422606472535745, 7.457538777881319, 6.480746663382905, 7.111008308884692, 7.35802826343736]\n",
            "Python implementation time:  0.0003235340118408203\n",
            "NumPy implementation result:  [6.82094422 7.83941023 6.59099308 9.58743203 8.24053798 8.06808637\n",
            " 6.97593368 6.70380554 7.44803891 7.72833233 9.87886692 8.59987598\n",
            " 7.49438621 9.38629482 6.15224227 6.42260647 7.45753878 6.48074666\n",
            " 7.11100831 7.35802826]\n",
            "NumPy implementation time:  0.00012230873107910156\n"
          ]
        }
      ]
    },
    {
      "cell_type": "markdown",
      "source": [
        "# 14. Perform matrix and matrix multiplication"
      ],
      "metadata": {
        "id": "bb5aXo5_Vy8M"
      }
    },
    {
      "cell_type": "markdown",
      "source": [
        "## Using standard python"
      ],
      "metadata": {
        "id": "a8hIzB9MX4V1"
      }
    },
    {
      "cell_type": "code",
      "source": [
        "def matrix_matrix_multiplication_python(mtx1, mtx2):\n",
        "    result = []\n",
        "    for i in range(len(mtx1)):\n",
        "        row = []\n",
        "        for j in range(len(mtx2[0])):\n",
        "            row.append(sum(mtx1[i][k] * mtx2[k][j] for k in range(len(mtx2))))\n",
        "        result.append(row)\n",
        "    return result"
      ],
      "metadata": {
        "id": "mI9sAF6BX6EO"
      },
      "execution_count": 48,
      "outputs": []
    },
    {
      "cell_type": "markdown",
      "source": [
        "## Using numpy"
      ],
      "metadata": {
        "id": "DGQeRMaCYBOu"
      }
    },
    {
      "cell_type": "code",
      "source": [
        "def matrix_matrix_multiplication_numpy(mtx1, mtx2):\n",
        "    return np.dot(mtx1, mtx2)"
      ],
      "metadata": {
        "id": "AlZ-bDPgYCuY"
      },
      "execution_count": 49,
      "outputs": []
    },
    {
      "cell_type": "markdown",
      "source": [
        "## Time difference"
      ],
      "metadata": {
        "id": "-jRNjNHMYInV"
      }
    },
    {
      "cell_type": "code",
      "source": [
        "matrix3 = np.random.rand(20, 30)\n",
        "matrix4 = np.random.rand(30, 40)\n",
        "\n",
        "start_time = time.time()\n",
        "matrix_matrix_multiplication_result_python = matrix_matrix_multiplication_python(matrix3, matrix4)\n",
        "elapsed_time_python = time.time() - start_time\n",
        "\n",
        "print(\"Python implementation result: \")\n",
        "for row in matrix_matrix_multiplication_result_python[:5]:\n",
        "    print(row[:5])\n",
        "print(\"Python implementation time: \", elapsed_time_python)\n",
        "\n",
        "start_time = time.time()\n",
        "matrix_matrix_multiplication_result_numpy = matrix_matrix_multiplication_numpy(matrix3, matrix4)\n",
        "elapsed_time_numpy = time.time() - start_time\n",
        "\n",
        "\n",
        "print(\"NumPy implementation result: \")\n",
        "print(matrix_matrix_multiplication_result_numpy[:5,:5])\n",
        "print(\"NumPy implementation time: \", elapsed_time_numpy)"
      ],
      "metadata": {
        "colab": {
          "base_uri": "https://localhost:8080/"
        },
        "id": "2YeIoAlLYHci",
        "outputId": "97d69bec-dfb0-491d-c961-628e91ee292a"
      },
      "execution_count": 51,
      "outputs": [
        {
          "output_type": "stream",
          "name": "stdout",
          "text": [
            "Python implementation result: \n",
            "[7.683898640107309, 8.10611705364215, 8.685128301554824, 8.119560522015671, 8.215505031128039]\n",
            "[6.458565074927653, 7.406480423015032, 6.913791791163468, 6.1653227130121655, 7.177986639926521]\n",
            "[8.341412780916272, 8.196958629760479, 7.733215722024792, 7.8203075403594084, 8.20044606216091]\n",
            "[7.692706597465791, 7.16125465124356, 7.888439180980285, 7.106347860761761, 7.485100567981029]\n",
            "[7.772148940600831, 7.818112238856061, 7.790858185387903, 7.281094317311199, 8.450697558149992]\n",
            "Python implementation time:  0.02089548110961914\n",
            "NumPy implementation result: \n",
            "[[7.68389864 8.10611705 8.6851283  8.11956052 8.21550503]\n",
            " [6.45856507 7.40648042 6.91379179 6.16532271 7.17798664]\n",
            " [8.34141278 8.19695863 7.73321572 7.82030754 8.20044606]\n",
            " [7.6927066  7.16125465 7.88843918 7.10634786 7.48510057]\n",
            " [7.77214894 7.81811224 7.79085819 7.28109432 8.45069756]]\n",
            "NumPy implementation time:  0.005037784576416016\n"
          ]
        }
      ]
    }
  ]
}